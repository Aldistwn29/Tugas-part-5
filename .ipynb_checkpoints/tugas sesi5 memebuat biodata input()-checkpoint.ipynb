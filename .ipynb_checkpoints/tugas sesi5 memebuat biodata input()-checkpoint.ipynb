{
 "cells": [
  {
   "cell_type": "code",
   "execution_count": null,
   "id": "6a775c6c",
   "metadata": {},
   "outputs": [],
   "source": [
    "# 1.\tBuatlah biodata sederhana dengan menggunakan fungsi input(), dan output variabel dengan fungsi format()."
   ]
  },
  {
   "cell_type": "code",
   "execution_count": 4,
   "id": "b151f2bd",
   "metadata": {},
   "outputs": [
    {
     "name": "stdout",
     "output_type": "stream",
     "text": [
      "biodata maahasiswa\n",
      "masukan nama anda =  ALDI SETIAWAN\n",
      "masukan nim anda = 20220040054\n",
      "masukan kelas anda = H\n",
      "masukkan prodi anda = Teknik informatika\n",
      "masukan umur anda = 19 tahun\n",
      "nama saya ALDI SETIAWAN,nim 20220040054,kelasH,prodiTeknik informatika,umur19 tahun\n"
     ]
    }
   ],
   "source": [
    "print(\"biodata maahasiswa\")\n",
    "nama = input(\"masukan nama anda =  \")\n",
    "nim = input(\"masukan nim anda = \")\n",
    "kelas = input(\"masukan kelas anda = \")\n",
    "prodi = input(\"masukkan prodi anda = \")\n",
    "umur = input(\"masukan umur anda = \")\n",
    "\n",
    "print(f\"nama saya {nama},nim {nim},kelas{kelas},prodi{prodi},umur{umur}\")"
   ]
  }
 ],
 "metadata": {
  "kernelspec": {
   "display_name": "Python 3 (ipykernel)",
   "language": "python",
   "name": "python3"
  },
  "language_info": {
   "codemirror_mode": {
    "name": "ipython",
    "version": 3
   },
   "file_extension": ".py",
   "mimetype": "text/x-python",
   "name": "python",
   "nbconvert_exporter": "python",
   "pygments_lexer": "ipython3",
   "version": "3.9.13"
  }
 },
 "nbformat": 4,
 "nbformat_minor": 5
}
